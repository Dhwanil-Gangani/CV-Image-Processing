{
 "cells": [
  {
   "cell_type": "code",
   "execution_count": 1,
   "metadata": {},
   "outputs": [],
   "source": [
    "#Create Image 4.1\n",
    "import cv2\n",
    "import numpy"
   ]
  },
  {
   "cell_type": "code",
   "execution_count": 2,
   "metadata": {},
   "outputs": [],
   "source": [
    "photo = numpy.zeros((500,500,3))"
   ]
  },
  {
   "cell_type": "code",
   "execution_count": 3,
   "metadata": {},
   "outputs": [],
   "source": [
    "#outer rectangle\n",
    "image=photo\n",
    "start_point=(100,100)\n",
    "end_point=(405,405)\n",
    "color= (255,0,0)\n",
    "thickness=2"
   ]
  },
  {
   "cell_type": "code",
   "execution_count": 4,
   "metadata": {},
   "outputs": [],
   "source": [
    "#row1\n",
    "#box_1\n",
    "image=photo\n",
    "start_point_1=(105,105)\n",
    "end_point_1=(200,200)\n",
    "\n",
    "#box_2\n",
    "image=photo\n",
    "start_point_2=(205,105)\n",
    "end_point_2=(300,200)\n",
    "\n",
    "#box_3\n",
    "image=photo\n",
    "start_point_3=(305,105)\n",
    "end_point_3=(400,200)\n"
   ]
  },
  {
   "cell_type": "code",
   "execution_count": 5,
   "metadata": {},
   "outputs": [],
   "source": [
    "#row2\n",
    "#box_1\n",
    "image=photo\n",
    "start_point_4=(105,205)\n",
    "end_point_4=(200,300)\n",
    "\n",
    "#box_2\n",
    "image=photo\n",
    "start_point_5=(205,205)\n",
    "end_point_5=(300,300)\n",
    "\n",
    "#box_3\n",
    "image=photo\n",
    "start_point_6=(305,205)\n",
    "end_point_6=(400,300)"
   ]
  },
  {
   "cell_type": "code",
   "execution_count": 6,
   "metadata": {},
   "outputs": [],
   "source": [
    "#row3\n",
    "#box_1\n",
    "image=photo\n",
    "start_point_7=(105,305)\n",
    "end_point_7=(200,400)\n",
    "\n",
    "#box_2\n",
    "image=photo\n",
    "start_point_8=(205,305)\n",
    "end_point_8=(300,400)\n",
    "\n",
    "#box_3\n",
    "image=photo\n",
    "start_point_9=(305,305)\n",
    "end_point_9=(400,400)"
   ]
  },
  {
   "cell_type": "code",
   "execution_count": 7,
   "metadata": {},
   "outputs": [],
   "source": [
    "# Drawing a green rectangle\n",
    "a = cv2.rectangle(photo, start_point_1,end_point_1,(0,0,0),0)\n",
    "# Drawing a green rectangle\n",
    "b= cv2.rectangle(photo, start_point_2,end_point_2,(0,0,0),0)\n",
    "# Drawing a green rectangle\n",
    "c= cv2.rectangle(photo, start_point_3,end_point_3,(0,0,0),0)\n",
    "\n",
    "# Drawing a green rectangle\n",
    "d= cv2.rectangle(photo, start_point_4,end_point_4,(0,0,0),0)\n",
    "# Drawing a green rectangle\n",
    "e= cv2.rectangle(photo, start_point_5,end_point_5,(0,0,0),0)\n",
    "# Drawing a green rectangle\n",
    "f= cv2.rectangle(photo, start_point_6,end_point_6,(0,0,0),0)\n",
    "\n",
    "# Drawing a green rectangle\n",
    "g= cv2.rectangle(photo, start_point_7,end_point_7,(0,0,0),0)\n",
    "# Drawing a green rectangle\n",
    "h= cv2.rectangle(photo, start_point_8,end_point_8,(0,0,0),0)\n",
    "# Drawing a green rectangle\n",
    "i= cv2.rectangle(photo, start_point_9,end_point_9,(0,0,0),0)"
   ]
  },
  {
   "cell_type": "code",
   "execution_count": 8,
   "metadata": {},
   "outputs": [],
   "source": [
    "#colors\n",
    "blue = [204,0,0]\n",
    "red = [0,0,204]\n",
    "green = [0,204,0]\n",
    "yellow = [0,255,255]\n",
    "white = [255,255,255]"
   ]
  },
  {
   "cell_type": "code",
   "execution_count": 9,
   "metadata": {},
   "outputs": [],
   "source": [
    "#outer color\n",
    "photo[:500,:95]=white\n",
    "photo[:500,410:]=white\n",
    "photo[:95,:500]=white\n",
    "photo[410:,:500]=white"
   ]
  },
  {
   "cell_type": "code",
   "execution_count": 10,
   "metadata": {},
   "outputs": [],
   "source": [
    "final=cv2.rectangle(image, start_point, end_point, color, thickness)"
   ]
  },
  {
   "cell_type": "code",
   "execution_count": 11,
   "metadata": {},
   "outputs": [
    {
     "data": {
      "text/plain": [
       "(95, 300, 3)"
      ]
     },
     "execution_count": 11,
     "metadata": {},
     "output_type": "execute_result"
    }
   ],
   "source": [
    "#header\n",
    "team_title = cv2.imread('technocrats.jpeg')\n",
    "team_title  = cv2.resize(team_title,(300,95))\n",
    "team_title.shape"
   ]
  },
  {
   "cell_type": "code",
   "execution_count": 12,
   "metadata": {},
   "outputs": [],
   "source": [
    "speed=500\n",
    "while True:\n",
    "    \n",
    "    photo[105:200 , 105:200] = blue\n",
    "    photo[105:200 , 205:300] = red\n",
    "    photo[105:200 , 305:400] = green \n",
    "    #row2\n",
    "    photo[205:300 , 105:200] = yellow\n",
    "    photo[205:300 , 205:300] = blue\n",
    "    photo[205:300 , 305:400] = red\n",
    "    #row3\n",
    "    photo[305:400 , 105:200] = white\n",
    "    photo[305:400 , 205:300] = yellow\n",
    "    photo[305:400 , 305:400] = white\n",
    "    \n",
    "    photo[105:200, 105:200] = yellow\n",
    "    cv2.imshow(\"technocrats 4.1\", photo)\n",
    "    if cv2.waitKey(speed) == 13:\n",
    "        break\n",
    "    photo[205:300, 105:200] = red\n",
    "    cv2.imshow(\"technocrats 4.1\", photo)\n",
    "    if cv2.waitKey(speed) == 13:\n",
    "        break\n",
    "    photo[105:200, 205:300] = white\n",
    "    cv2.imshow(\"technocrats 4.1\", photo)\n",
    "    if cv2.waitKey(speed) == 13:\n",
    "        break\n",
    "    photo[105:200, 305:400] = blue\n",
    "    cv2.imshow(\"technocrats 4.1\", photo)\n",
    "    if cv2.waitKey(speed) == 13:\n",
    "        break\n",
    "    photo[205:300, 205:300] = green\n",
    "    cv2.imshow(\"technocrats 4.1\", photo)\n",
    "    if cv2.waitKey(speed) == 13:\n",
    "        break\n",
    "    photo[305:400, 305:400] = blue\n",
    "    cv2.imshow(\"technocrats 4.1\", photo)\n",
    "    if cv2.waitKey(speed) == 13:\n",
    "        break\n",
    "    photo[305:400, 105:200] = green\n",
    "    cv2.imshow(\"technocrats 4.1\", photo)\n",
    "    if cv2.waitKey(speed) == 13:\n",
    "        break\n",
    "    photo[305:400, 205:300] = red\n",
    "    cv2.imshow(\"technocrats 4.1\", photo)\n",
    "    if cv2.waitKey(speed) == 13:\n",
    "        break\n",
    "    photo[205:300, 305:400] = white\n",
    "    cv2.imshow(\"technocrats 4.1\", photo)\n",
    "    if cv2.waitKey(speed) == 13:\n",
    "        break\n",
    "    \n",
    "cv2.destroyAllWindows()"
   ]
  },
  {
   "cell_type": "code",
   "execution_count": null,
   "metadata": {},
   "outputs": [],
   "source": []
  },
  {
   "cell_type": "code",
   "execution_count": 13,
   "metadata": {},
   "outputs": [],
   "source": [
    "#Swap Image 4.2\n",
    "import cv2"
   ]
  },
  {
   "cell_type": "code",
   "execution_count": 14,
   "metadata": {},
   "outputs": [],
   "source": [
    "virat = cv2.imread('virat-kohli.jpeg')\n",
    "virat = cv2.resize(virat,(500,500))"
   ]
  },
  {
   "cell_type": "code",
   "execution_count": 15,
   "metadata": {},
   "outputs": [],
   "source": [
    "rohit = cv2.imread('rohit-sharma.jpg')\n",
    "rohit = cv2.resize(rohit,(500,500))"
   ]
  },
  {
   "cell_type": "code",
   "execution_count": 16,
   "metadata": {},
   "outputs": [],
   "source": [
    "cv2.imshow('virat', virat)\n",
    "cv2.imshow('rohit', rohit)\n",
    "cv2.waitKey()\n",
    "cv2.destroyAllWindows() "
   ]
  },
  {
   "cell_type": "code",
   "execution_count": 17,
   "metadata": {},
   "outputs": [],
   "source": [
    "v = virat[160:310,200:320]"
   ]
  },
  {
   "cell_type": "code",
   "execution_count": 18,
   "metadata": {},
   "outputs": [],
   "source": [
    "cv2.imshow('virat', v)\n",
    "cv2.waitKey()\n",
    "cv2.destroyAllWindows() "
   ]
  },
  {
   "cell_type": "code",
   "execution_count": 19,
   "metadata": {},
   "outputs": [],
   "source": [
    "r = rohit[160:310,200:320]"
   ]
  },
  {
   "cell_type": "code",
   "execution_count": 20,
   "metadata": {},
   "outputs": [],
   "source": [
    "cv2.imshow('rohit', r)\n",
    "cv2.waitKey()\n",
    "cv2.destroyAllWindows() "
   ]
  },
  {
   "cell_type": "code",
   "execution_count": 21,
   "metadata": {},
   "outputs": [
    {
     "data": {
      "text/plain": [
       "(500, 500, 3)"
      ]
     },
     "execution_count": 21,
     "metadata": {},
     "output_type": "execute_result"
    }
   ],
   "source": [
    "rohit.shape"
   ]
  },
  {
   "cell_type": "code",
   "execution_count": 22,
   "metadata": {},
   "outputs": [
    {
     "data": {
      "text/plain": [
       "(150, 120, 3)"
      ]
     },
     "execution_count": 22,
     "metadata": {},
     "output_type": "execute_result"
    }
   ],
   "source": [
    "r.shape"
   ]
  },
  {
   "cell_type": "code",
   "execution_count": 23,
   "metadata": {},
   "outputs": [
    {
     "data": {
      "text/plain": [
       "(500, 500, 3)"
      ]
     },
     "execution_count": 23,
     "metadata": {},
     "output_type": "execute_result"
    }
   ],
   "source": [
    "virat.shape"
   ]
  },
  {
   "cell_type": "code",
   "execution_count": 24,
   "metadata": {},
   "outputs": [
    {
     "data": {
      "text/plain": [
       "(150, 120, 3)"
      ]
     },
     "execution_count": 24,
     "metadata": {},
     "output_type": "execute_result"
    }
   ],
   "source": [
    "v.shape"
   ]
  },
  {
   "cell_type": "code",
   "execution_count": 25,
   "metadata": {},
   "outputs": [],
   "source": [
    "virat = cv2.imread('virat-kohli.jpeg')\n",
    "virat = cv2.resize(virat,(500,500))\n",
    "virat[160:310,200:320] = r"
   ]
  },
  {
   "cell_type": "code",
   "execution_count": 26,
   "metadata": {},
   "outputs": [],
   "source": [
    "cv2.imshow('crop1', virat)\n",
    "cv2.waitKey()\n",
    "cv2.destroyAllWindows()"
   ]
  },
  {
   "cell_type": "code",
   "execution_count": 27,
   "metadata": {},
   "outputs": [],
   "source": [
    "rohit = cv2.imread('rohit-sharma.jpg')\n",
    "rohit = cv2.resize(rohit,(500,500))\n",
    "rohit[160:310,200:320] = v"
   ]
  },
  {
   "cell_type": "code",
   "execution_count": 28,
   "metadata": {},
   "outputs": [],
   "source": [
    "cv2.imshow('crop', rohit)\n",
    "cv2.waitKey()\n",
    "cv2.destroyAllWindows()"
   ]
  },
  {
   "cell_type": "code",
   "execution_count": null,
   "metadata": {},
   "outputs": [],
   "source": [
    "\n"
   ]
  },
  {
   "cell_type": "code",
   "execution_count": null,
   "metadata": {},
   "outputs": [],
   "source": []
  },
  {
   "cell_type": "code",
   "execution_count": 29,
   "metadata": {},
   "outputs": [],
   "source": [
    "#Collage Image 4.3\n",
    "import cv2\n",
    "import numpy as np"
   ]
  },
  {
   "cell_type": "code",
   "execution_count": 30,
   "metadata": {},
   "outputs": [],
   "source": [
    "member1 = cv2.imread('ridham.jpeg')\n",
    "ridham  = cv2.resize(member1,(300,300))\n",
    "cv2.imshow('ridham', ridham)\n",
    "cv2.waitKey()\n",
    "cv2.destroyAllWindows()"
   ]
  },
  {
   "cell_type": "code",
   "execution_count": 31,
   "metadata": {},
   "outputs": [],
   "source": [
    "member2 = cv2.imread('anuska.jpeg')\n",
    "anuska  = cv2.resize(member2,(300,300))\n",
    "cv2.imshow('anuska', anuska)\n",
    "cv2.waitKey()\n",
    "cv2.destroyAllWindows()"
   ]
  },
  {
   "cell_type": "code",
   "execution_count": 32,
   "metadata": {},
   "outputs": [],
   "source": [
    "member3 = cv2.imread('rishab.jpeg')\n",
    "rishab  = cv2.resize(member3,(300,300))\n",
    "cv2.imshow('rishab', rishab)\n",
    "cv2.waitKey()\n",
    "cv2.destroyAllWindows()"
   ]
  },
  {
   "cell_type": "code",
   "execution_count": 33,
   "metadata": {},
   "outputs": [],
   "source": [
    "member4 = cv2.imread('basith.jpeg')\n",
    "basith  = cv2.resize(member4,(300,300))\n",
    "cv2.imshow('basith', basith)\n",
    "cv2.waitKey()\n",
    "cv2.destroyAllWindows()"
   ]
  },
  {
   "cell_type": "code",
   "execution_count": null,
   "metadata": {},
   "outputs": [],
   "source": []
  },
  {
   "cell_type": "code",
   "execution_count": 34,
   "metadata": {},
   "outputs": [
    {
     "data": {
      "text/plain": [
       "(300, 600, 3)"
      ]
     },
     "execution_count": 34,
     "metadata": {},
     "output_type": "execute_result"
    }
   ],
   "source": [
    "row1 = np.hstack((ridham, anuska))\n",
    "row1.shape"
   ]
  },
  {
   "cell_type": "code",
   "execution_count": 35,
   "metadata": {},
   "outputs": [
    {
     "data": {
      "text/plain": [
       "(300, 600, 3)"
      ]
     },
     "execution_count": 35,
     "metadata": {},
     "output_type": "execute_result"
    }
   ],
   "source": [
    "row2 = np.hstack((basith, rishab))\n",
    "row2.shape"
   ]
  },
  {
   "cell_type": "code",
   "execution_count": 37,
   "metadata": {},
   "outputs": [
    {
     "data": {
      "text/plain": [
       "(300, 300, 3)"
      ]
     },
     "execution_count": 37,
     "metadata": {},
     "output_type": "execute_result"
    }
   ],
   "source": [
    "middle_photo = cv2.imread('dhwanil.jpeg')\n",
    "middle = cv2.resize(middle_photo,(300,300))\n",
    "middle.shape"
   ]
  },
  {
   "cell_type": "code",
   "execution_count": 38,
   "metadata": {},
   "outputs": [
    {
     "data": {
      "text/plain": [
       "(200, 200, 3)"
      ]
     },
     "execution_count": 38,
     "metadata": {},
     "output_type": "execute_result"
    }
   ],
   "source": [
    "middle = middle[ 50:250 , 50:250 ]\n",
    "middle.shape"
   ]
  },
  {
   "cell_type": "code",
   "execution_count": 39,
   "metadata": {},
   "outputs": [],
   "source": [
    "cv2.imshow(\"team leader\",middle)\n",
    "cv2.waitKey()\n",
    "cv2.destroyAllWindows()"
   ]
  },
  {
   "cell_type": "code",
   "execution_count": 40,
   "metadata": {},
   "outputs": [
    {
     "data": {
      "text/plain": [
       "(45, 200, 3)"
      ]
     },
     "execution_count": 40,
     "metadata": {},
     "output_type": "execute_result"
    }
   ],
   "source": [
    "team_title = cv2.imread('technocrats.jpeg')\n",
    "team_title  = cv2.resize(team_title,(200,45))\n",
    "team_title.shape"
   ]
  },
  {
   "cell_type": "code",
   "execution_count": 41,
   "metadata": {},
   "outputs": [],
   "source": [
    "cv2.imshow(\"team title\",team_title)\n",
    "cv2.waitKey()\n",
    "cv2.destroyAllWindows()"
   ]
  },
  {
   "cell_type": "code",
   "execution_count": 42,
   "metadata": {},
   "outputs": [
    {
     "data": {
      "text/plain": [
       "(600, 600, 3)"
      ]
     },
     "execution_count": 42,
     "metadata": {},
     "output_type": "execute_result"
    }
   ],
   "source": [
    "final_photo = np.vstack((row1, row2))\n",
    "final_photo.shape"
   ]
  },
  {
   "cell_type": "code",
   "execution_count": 43,
   "metadata": {},
   "outputs": [
    {
     "data": {
      "text/plain": [
       "(600, 600, 3)"
      ]
     },
     "execution_count": 43,
     "metadata": {},
     "output_type": "execute_result"
    }
   ],
   "source": [
    "final_photo[200:400,200:400] = middle\n",
    "final_photo.shape"
   ]
  },
  {
   "cell_type": "code",
   "execution_count": 44,
   "metadata": {},
   "outputs": [],
   "source": [
    "final_photo[355:400,200:400] = team_title"
   ]
  },
  {
   "cell_type": "code",
   "execution_count": 45,
   "metadata": {},
   "outputs": [],
   "source": [
    "cv2.imshow(\"technocrats 4.3\",final_photo)\n",
    "cv2.waitKey()\n",
    "cv2.destroyAllWindows()"
   ]
  },
  {
   "cell_type": "code",
   "execution_count": null,
   "metadata": {},
   "outputs": [],
   "source": [
    "#THANK YOU"
   ]
  },
  {
   "cell_type": "code",
   "execution_count": null,
   "metadata": {},
   "outputs": [],
   "source": []
  },
  {
   "cell_type": "code",
   "execution_count": null,
   "metadata": {},
   "outputs": [],
   "source": []
  },
  {
   "cell_type": "code",
   "execution_count": null,
   "metadata": {},
   "outputs": [],
   "source": []
  },
  {
   "cell_type": "code",
   "execution_count": null,
   "metadata": {},
   "outputs": [],
   "source": []
  },
  {
   "cell_type": "code",
   "execution_count": null,
   "metadata": {},
   "outputs": [],
   "source": []
  },
  {
   "cell_type": "code",
   "execution_count": null,
   "metadata": {},
   "outputs": [],
   "source": []
  }
 ],
 "metadata": {
  "kernelspec": {
   "display_name": "Python 3",
   "language": "python",
   "name": "python3"
  },
  "language_info": {
   "codemirror_mode": {
    "name": "ipython",
    "version": 3
   },
   "file_extension": ".py",
   "mimetype": "text/x-python",
   "name": "python",
   "nbconvert_exporter": "python",
   "pygments_lexer": "ipython3",
   "version": "3.8.3"
  }
 },
 "nbformat": 4,
 "nbformat_minor": 4
}
